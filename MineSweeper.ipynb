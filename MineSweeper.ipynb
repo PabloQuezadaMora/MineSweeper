{
 "cells": [
  {
   "cell_type": "code",
   "execution_count": 1,
   "metadata": {},
   "outputs": [],
   "source": [
    "import numpy as np # linear algebra\n",
    "import pandas as pd # data processing, CSV file I/O (e.g. pd.read_csv)\n",
    "import random"
   ]
  },
  {
   "cell_type": "markdown",
   "metadata": {},
   "source": [
    "We will create a MineSweeper game with a board size of (a,a). The game will be implemented using two matrix of size (a,a), which will be named the Game board and the Mine board. \n",
    "\n",
    "The Game board will be a matrix with numbers ranging from -2 to 8, where -1 represent a bomb, -2 represent an uncover cell, and 0-8 represent a cell with the number of bombs surrounding it. It will be the game board observed by the player.\n",
    "\n",
    "The Mine Board will be a matrix with 0 and 1, where 1 is a bomb and 0 is a safe cell. This matrix will store the mine location on the board."
   ]
  },
  {
   "cell_type": "code",
   "execution_count": 97,
   "metadata": {},
   "outputs": [],
   "source": [
    "class minesweeper_game(object):\n",
    "    def __init__(self, len_board):\n",
    "        self.len_board = len_board\n",
    "        self.mine_board = self.create_mine_board()\n",
    "        self.game_board = np.full((len_board,len_board), -2)\n",
    "    \n",
    "    def create_mine_board(self):\n",
    "        mine_board = np.full((self.len_board,self.len_board),0)  #We define a np.array of size (a,a) with only zeroes\n",
    "        mines = [] #list of mines\n",
    "        while len(mines) < self.len_board: #we want a mines\n",
    "            mine_coord = (random.randint(0, self.len_board-1), random.randint(0, self.len_board-1)) #we consider the coordinate of the mine\n",
    "            if mine_coord not in mines: \n",
    "                mines.append(mine_coord)\n",
    "                mine_board[mine_coord] = 1\n",
    "        return mine_board\n",
    "\n",
    "    def create_game_board(self, mine_board):\n",
    "        game_board = np.full((self.len_board,self.len_board), 0)\n",
    "        for i in range(0,self.len_board):\n",
    "            for j in range(0, self.len_board):\n",
    "                if mine_board[(i,j)] == 1:\n",
    "                    game_board[(i,j)] = -1\n",
    "        return game_board\n",
    "                    \n",
    "    def game_status(self):\n",
    "        for i in range(0,self.len_board):\n",
    "            for j in range(0, self.len_board):\n",
    "                if self.game_board[(i,j)] == -1:\n",
    "                    return print(\"You lost!\") # You lost!. You uncovered a mine\n",
    "        uncovered_cells = self.len_board*self.len_board\n",
    "        for i in range(0,self.len_board):\n",
    "            for j in range(0, self.len_board):\n",
    "                if (self.game_board[(i,j)] != -1):\n",
    "                    uncovered_cells += 1\n",
    "        if uncovered_cells == self.len_board*self.len_board - self.len_board:\n",
    "            return print(\"You won!\") #You uncovered all of cells without a bomb (There are \"a\" bombs).\n",
    "        else:\n",
    "            return print(\"You are still missing bombs\")\n",
    "    \n",
    "        \n",
    "      "
   ]
  },
  {
   "cell_type": "code",
   "execution_count": 100,
   "metadata": {},
   "outputs": [
    {
     "name": "stdout",
     "output_type": "stream",
     "text": [
      "[[1 0 0 1 0 0 0 0]\n",
      " [0 0 0 0 0 0 0 0]\n",
      " [0 0 0 1 1 0 0 0]\n",
      " [0 0 0 0 1 0 1 0]\n",
      " [0 0 0 0 0 0 0 1]\n",
      " [0 0 0 0 0 0 0 0]\n",
      " [0 0 0 0 0 0 0 0]\n",
      " [0 0 1 0 0 0 0 0]]\n",
      "[[-2 -2 -2 -2 -2 -2 -2 -2]\n",
      " [-2 -2 -2 -2 -2 -2 -2 -2]\n",
      " [-2 -2 -2 -2 -2 -2 -2 -2]\n",
      " [-2 -2 -2 -2 -2 -2 -2 -2]\n",
      " [-2 -2 -2 -2 -2 -2 -2 -2]\n",
      " [-2 -2 -2 -2 -2 -2 -2 -2]\n",
      " [-2 -2 -2 -2 -2 -2 -2 -2]\n",
      " [-2 -2 -2 -2 -2 -2 -2 -2]]\n",
      "You are still missing bombs\n"
     ]
    }
   ],
   "source": [
    "game = minesweeper_game(8)\n",
    "print(game.mine_board)\n",
    "print(game.game_board)\n",
    "game.game_status()"
   ]
  }
 ],
 "metadata": {
  "kernelspec": {
   "display_name": "tf",
   "language": "python",
   "name": "python3"
  },
  "language_info": {
   "codemirror_mode": {
    "name": "ipython",
    "version": 3
   },
   "file_extension": ".py",
   "mimetype": "text/x-python",
   "name": "python",
   "nbconvert_exporter": "python",
   "pygments_lexer": "ipython3",
   "version": "3.9.18"
  }
 },
 "nbformat": 4,
 "nbformat_minor": 2
}
